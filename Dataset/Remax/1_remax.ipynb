{
  "nbformat": 4,
  "nbformat_minor": 0,
  "metadata": {
    "colab": {
      "provenance": [],
      "authorship_tag": "ABX9TyOj2jLqGxyNVNvHxq34oUkL",
      "include_colab_link": true
    },
    "kernelspec": {
      "name": "python3",
      "display_name": "Python 3"
    },
    "language_info": {
      "name": "python"
    }
  },
  "cells": [
    {
      "cell_type": "markdown",
      "metadata": {
        "id": "view-in-github",
        "colab_type": "text"
      },
      "source": [
        "<a href=\"https://colab.research.google.com/github/fowardelcac/Mercado-inmobilirario-cba/blob/main/Dataset/Remax/1_remax.ipynb\" target=\"_parent\"><img src=\"https://colab.research.google.com/assets/colab-badge.svg\" alt=\"Open In Colab\"/></a>"
      ]
    },
    {
      "cell_type": "code",
      "execution_count": 2,
      "metadata": {
        "id": "rJSq2iOhT5EY"
      },
      "outputs": [],
      "source": [
        "import requests\n",
        "from bs4 import BeautifulSoup\n",
        "import pandas as pd\n",
        "import numpy as np"
      ]
    },
    {
      "cell_type": "code",
      "source": [
        "page_number = 0\n",
        "url_base = 'https://www.remax.com.ar/listings/buy?page='\n",
        "url_base1 = '&pageSize=24&sort=-createdAt&in:operationId=1&in:typeId=9,10,11,1,2,3,4,5,6,7,8&locations=in::::4202@%3Cb%3ECordoba%3C%2Fb%3E#%20%3Cb%3ECapital%3C/b%3E#%20%3Cb%3EC%C3%B3rdoba%3C/b%3E:::&filterCount=1&viewMode=list'\n",
        "\n",
        "data_list = []\n",
        "while True:\n",
        "    # Paso 2: Obtén el contenido de la página\n",
        "    url = url_base + str(page_number) + url_base1\n",
        "\n",
        "    result = requests.get(url)\n",
        "    soup = BeautifulSoup(result.content, 'html.parser')\n",
        "    # Extrae los datos relevantes de la página utilizando BeautifulSoup\n",
        "    titulos = soup.find_all('h2', class_='description ng-star-inserted')\n",
        "    span_valor = soup.find_all('span', class_='bold-span')\n",
        "\n",
        "    data = {}\n",
        "    data['Descripciones'] = [i.get_text() for i in titulos]\n",
        "    data['M2'] = [span_valor[i].text for i in range(0, len(span_valor), 4)]\n",
        "    data['M2 Cubiertos'] = [span_valor[i].text for i in range(1, len(span_valor), 4)]\n",
        "    data['Ambientes'] = [span_valor[i].text for i in range(2, len(span_valor), 4)]\n",
        "    data['Baños'] = [span_valor[i].text for i in range(3, len(span_valor), 4)]\n",
        "    lengths = [len(data[key]) for key in data]\n",
        "\n",
        "    if len(set(lengths)) == 1:  # Si todos los arrays tienen la misma longitud\n",
        "        data_list.append(data)# Agrega NaNs para igualar la longitud\n",
        "    page_number += 1\n",
        "    # Paso 6: Maneja la paginación (por ejemplo, detecta la última página o establece un límite)\n",
        "    if page_number == 83:  # Condición para detener la paginación\n",
        "        break"
      ],
      "metadata": {
        "id": "esYShnzZVLjB"
      },
      "execution_count": 15,
      "outputs": []
    },
    {
      "cell_type": "code",
      "source": [
        "df = pd.concat([pd.DataFrame(data) for data in data_list], ignore_index=True)"
      ],
      "metadata": {
        "id": "PdRA8smWiXUW"
      },
      "execution_count": 16,
      "outputs": []
    },
    {
      "cell_type": "code",
      "source": [
        "df.to_csv('Remax_df.csv')"
      ],
      "metadata": {
        "id": "IPbX2K79jWWp"
      },
      "execution_count": 18,
      "outputs": []
    },
    {
      "cell_type": "code",
      "source": [],
      "metadata": {
        "id": "IZ4ilBSSr9jB"
      },
      "execution_count": null,
      "outputs": []
    }
  ]
}